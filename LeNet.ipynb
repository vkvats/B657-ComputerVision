{
  "nbformat": 4,
  "nbformat_minor": 0,
  "metadata": {
    "colab": {
      "provenance": []
    },
    "kernelspec": {
      "name": "python3",
      "display_name": "Python 3"
    },
    "language_info": {
      "name": "python"
    }
  },
  "cells": [
    {
      "cell_type": "code",
      "source": [
        "## Imports\n",
        "import torch\n",
        "import torch.nn as nn\n",
        "import torch.nn.functional as F\n",
        "import torch.optim as optim\n",
        "import torchvision\n",
        "import torchvision.transforms as transforms\n",
        "import matplotlib.pyplot as plt\n",
        "from tqdm import tqdm\n",
        "\n",
        "!pip install torchinfo\n",
        "from torchinfo import summary"
      ],
      "metadata": {
        "colab": {
          "base_uri": "https://localhost:8080/"
        },
        "id": "mRIisjpzHfnF",
        "outputId": "5a1bfe3f-dd2c-4ae5-bc5c-a6e4b8fe2700"
      },
      "execution_count": 1,
      "outputs": [
        {
          "output_type": "stream",
          "name": "stdout",
          "text": [
            "Requirement already satisfied: torchinfo in /usr/local/lib/python3.11/dist-packages (1.8.0)\n"
          ]
        }
      ]
    },
    {
      "cell_type": "markdown",
      "source": [
        "### LeNet-5"
      ],
      "metadata": {
        "id": "xkCjivTmOP_o"
      }
    },
    {
      "cell_type": "code",
      "source": [
        "class LeNet5(nn.Module):\n",
        "  def __init__(self):\n",
        "    super(LeNet5, self).__init__()\n",
        "    self.feature_extractor = nn.Sequential(\n",
        "          nn.Conv2d(in_channels=1, out_channels=6, kernel_size=5, stride=1, padding=2), ## Convolutional layer\n",
        "          nn.Sigmoid(), ## Non-linearity\n",
        "          nn.AvgPool2d(kernel_size=2, stride=2),  ## Average pooling layer\n",
        "          nn.Conv2d(in_channels=6, out_channels=16, kernel_size=5, stride=1),  ## Convolutional layer\n",
        "          nn.Sigmoid(), ## Non-linearity\n",
        "          nn.AvgPool2d(kernel_size=2, stride=2),  ## Average Pooling\n",
        "    )\n",
        "    self.classifier = nn.Sequential(\n",
        "        nn.Flatten(), ## convert to one dimensional vector features\n",
        "        nn.Linear(in_features=16*5*5, out_features=120), ## Dense layer\n",
        "        nn.Sigmoid(), ## Non-linearity\n",
        "        nn.Linear(in_features=120, out_features=84),\n",
        "        nn.Sigmoid(),\n",
        "        nn.Linear(in_features=84, out_features=10),\n",
        "    )\n",
        "\n",
        "  def forward(self, x):\n",
        "    x = self.feature_extractor(x)\n",
        "    x = self.classifier(x)\n",
        "    return x"
      ],
      "metadata": {
        "id": "BkB6n6VcG8De"
      },
      "execution_count": 2,
      "outputs": []
    },
    {
      "cell_type": "markdown",
      "source": [
        "#### Model Summary"
      ],
      "metadata": {
        "id": "zUGV_fOCOkX1"
      }
    },
    {
      "cell_type": "code",
      "source": [
        "## Model summary\n",
        "summary(model=LeNet5(), input_size=(1, 1, 28, 28), col_width=20,\n",
        "                  col_names=['input_size', 'output_size', 'num_params', 'trainable'], row_settings=['var_names'], verbose=0)"
      ],
      "metadata": {
        "colab": {
          "base_uri": "https://localhost:8080/"
        },
        "id": "RAmgNmPoOff-",
        "outputId": "f6ab5ebe-fd58-4ff2-cb84-eef37efec8f5"
      },
      "execution_count": 3,
      "outputs": [
        {
          "output_type": "execute_result",
          "data": {
            "text/plain": [
              "========================================================================================================================\n",
              "Layer (type (var_name))                  Input Shape          Output Shape         Param #              Trainable\n",
              "========================================================================================================================\n",
              "LeNet5 (LeNet5)                          [1, 1, 28, 28]       [1, 10]              --                   True\n",
              "├─Sequential (feature_extractor)         [1, 1, 28, 28]       [1, 16, 5, 5]        --                   True\n",
              "│    └─Conv2d (0)                        [1, 1, 28, 28]       [1, 6, 28, 28]       156                  True\n",
              "│    └─Sigmoid (1)                       [1, 6, 28, 28]       [1, 6, 28, 28]       --                   --\n",
              "│    └─AvgPool2d (2)                     [1, 6, 28, 28]       [1, 6, 14, 14]       --                   --\n",
              "│    └─Conv2d (3)                        [1, 6, 14, 14]       [1, 16, 10, 10]      2,416                True\n",
              "│    └─Sigmoid (4)                       [1, 16, 10, 10]      [1, 16, 10, 10]      --                   --\n",
              "│    └─AvgPool2d (5)                     [1, 16, 10, 10]      [1, 16, 5, 5]        --                   --\n",
              "├─Sequential (classifier)                [1, 16, 5, 5]        [1, 10]              --                   True\n",
              "│    └─Flatten (0)                       [1, 16, 5, 5]        [1, 400]             --                   --\n",
              "│    └─Linear (1)                        [1, 400]             [1, 120]             48,120               True\n",
              "│    └─Sigmoid (2)                       [1, 120]             [1, 120]             --                   --\n",
              "│    └─Linear (3)                        [1, 120]             [1, 84]              10,164               True\n",
              "│    └─Sigmoid (4)                       [1, 84]              [1, 84]              --                   --\n",
              "│    └─Linear (5)                        [1, 84]              [1, 10]              850                  True\n",
              "========================================================================================================================\n",
              "Total params: 61,706\n",
              "Trainable params: 61,706\n",
              "Non-trainable params: 0\n",
              "Total mult-adds (Units.MEGABYTES): 0.42\n",
              "========================================================================================================================\n",
              "Input size (MB): 0.00\n",
              "Forward/backward pass size (MB): 0.05\n",
              "Params size (MB): 0.25\n",
              "Estimated Total Size (MB): 0.30\n",
              "========================================================================================================================"
            ]
          },
          "metadata": {},
          "execution_count": 3
        }
      ]
    },
    {
      "cell_type": "markdown",
      "source": [
        "#### MNIST dataloader"
      ],
      "metadata": {
        "id": "wemzHsywOSmT"
      }
    },
    {
      "cell_type": "code",
      "source": [
        "## Define the transformations to apply to the data\n",
        "transform = transforms.Compose(\n",
        "    [transforms.ToTensor(),\n",
        "     transforms.Normalize((0.5,), (0.5,))])\n",
        "\n",
        "## Download the MNIST dataset\n",
        "trainset = torchvision.datasets.MNIST(root='./data', train=True,\n",
        "                                        download=True, transform=transform)\n",
        "testset = torchvision.datasets.MNIST(root='./data', train=False,\n",
        "                                       download=True, transform=transform)\n",
        "\n",
        "## Split the training set into training and validation sets\n",
        "train_size = int(0.8 * len(trainset))\n",
        "val_size = len(trainset) - train_size\n",
        "trainset, valset = torch.utils.data.random_split(trainset, [train_size, val_size])\n",
        "\n",
        "## Create data loaders for training, validation and testing sets\n",
        "trainloader = torch.utils.data.DataLoader(trainset, batch_size=64, shuffle=True, num_workers=2)\n",
        "valloader = torch.utils.data.DataLoader(valset, batch_size=64, shuffle=False, num_workers=2)\n",
        "testloader = torch.utils.data.DataLoader(testset, batch_size=64, shuffle=False, num_workers=2)"
      ],
      "metadata": {
        "id": "_cuCknDTOW3j"
      },
      "execution_count": 4,
      "outputs": []
    },
    {
      "cell_type": "markdown",
      "source": [
        "#### Training Loop"
      ],
      "metadata": {
        "id": "Mx9-uckOQSA9"
      }
    },
    {
      "cell_type": "code",
      "source": [
        "## Initialize the model, loss function, optimizer, and other hyperparameters\n",
        "net = LeNet5()\n",
        "criterion = nn.CrossEntropyLoss()\n",
        "optimizer = optim.Adam(net.parameters(), lr=0.001)\n",
        "epochs = 10\n",
        "\n",
        "## Training loop\n",
        "device = torch.device(\"cuda:0\" if torch.cuda.is_available() else \"cpu\")\n",
        "net.to(device)\n",
        "\n",
        "train_loss, validation_loss = [], []\n",
        "for epoch in tqdm(range(epochs)):\n",
        "    running_loss = 0.0\n",
        "    for i, data in enumerate(trainloader, 0):\n",
        "        ## get the inputs; data is a list of [inputs, labels]\n",
        "        inputs, labels = data[0].to(device), data[1].to(device)\n",
        "        ## zero the parameter gradients\n",
        "        optimizer.zero_grad()\n",
        "        ## forward + backward + optimize\n",
        "        outputs = net(inputs) ## Forward pass\n",
        "        loss = criterion(outputs, labels) ## Loss\n",
        "        loss.backward() ## backward pass\n",
        "        optimizer.step() ## update weights\n",
        "        running_loss += loss.item()\n",
        "\n",
        "    ## Validation loop\n",
        "    running_val_loss = 0.0\n",
        "    for i, data in enumerate(valloader, 0):\n",
        "        inputs, labels = data[0].to(device), data[1].to(device)\n",
        "        outputs = net(inputs)\n",
        "        loss = criterion(outputs, labels)\n",
        "        running_val_loss += loss.item()\n",
        "\n",
        "    print(f'Epoch: {epoch+1}, Training Loss: {running_loss/len(trainloader)}, Validation Loss: {running_val_loss/len(valloader)}')\n",
        "    train_loss.append(running_loss/len(trainloader))\n",
        "    validation_loss.append(running_val_loss/len(valloader))\n",
        "\n",
        "print('Finished Training')"
      ],
      "metadata": {
        "colab": {
          "base_uri": "https://localhost:8080/"
        },
        "id": "ysur20XvQEtd",
        "outputId": "cacc30cc-5017-4de6-d3ef-df3a70d50079"
      },
      "execution_count": 5,
      "outputs": [
        {
          "output_type": "stream",
          "name": "stderr",
          "text": [
            " 10%|█         | 1/10 [00:37<05:33, 37.10s/it]"
          ]
        },
        {
          "output_type": "stream",
          "name": "stdout",
          "text": [
            "Epoch: 1, Training Loss: 1.0880194343328475, Validation Loss: 0.359623567934366\n"
          ]
        },
        {
          "output_type": "stream",
          "name": "stderr",
          "text": [
            "\r 20%|██        | 2/10 [01:05<04:17, 32.18s/it]"
          ]
        },
        {
          "output_type": "stream",
          "name": "stdout",
          "text": [
            "Epoch: 2, Training Loss: 0.2480261560281118, Validation Loss: 0.2077051050406187\n"
          ]
        },
        {
          "output_type": "stream",
          "name": "stderr",
          "text": [
            "\r 30%|███       | 3/10 [01:34<03:33, 30.52s/it]"
          ]
        },
        {
          "output_type": "stream",
          "name": "stdout",
          "text": [
            "Epoch: 3, Training Loss: 0.16120696083952984, Validation Loss: 0.14685641994026113\n"
          ]
        },
        {
          "output_type": "stream",
          "name": "stderr",
          "text": [
            "\r 40%|████      | 4/10 [02:03<03:00, 30.07s/it]"
          ]
        },
        {
          "output_type": "stream",
          "name": "stdout",
          "text": [
            "Epoch: 4, Training Loss: 0.11945307033260663, Validation Loss: 0.12137141898076267\n"
          ]
        },
        {
          "output_type": "stream",
          "name": "stderr",
          "text": [
            "\r 50%|█████     | 5/10 [02:34<02:31, 30.29s/it]"
          ]
        },
        {
          "output_type": "stream",
          "name": "stdout",
          "text": [
            "Epoch: 5, Training Loss: 0.0978959124200046, Validation Loss: 0.10255930628231232\n"
          ]
        },
        {
          "output_type": "stream",
          "name": "stderr",
          "text": [
            "\r 60%|██████    | 6/10 [03:03<01:59, 29.77s/it]"
          ]
        },
        {
          "output_type": "stream",
          "name": "stdout",
          "text": [
            "Epoch: 6, Training Loss: 0.08098419555711249, Validation Loss: 0.08999069897517403\n"
          ]
        },
        {
          "output_type": "stream",
          "name": "stderr",
          "text": [
            "\r 70%|███████   | 7/10 [03:31<01:28, 29.41s/it]"
          ]
        },
        {
          "output_type": "stream",
          "name": "stdout",
          "text": [
            "Epoch: 7, Training Loss: 0.07018288445100188, Validation Loss: 0.08744140732736189\n"
          ]
        },
        {
          "output_type": "stream",
          "name": "stderr",
          "text": [
            "\r 80%|████████  | 8/10 [04:00<00:58, 29.18s/it]"
          ]
        },
        {
          "output_type": "stream",
          "name": "stdout",
          "text": [
            "Epoch: 8, Training Loss: 0.06296005488062899, Validation Loss: 0.0717427817240179\n"
          ]
        },
        {
          "output_type": "stream",
          "name": "stderr",
          "text": [
            "\r 90%|█████████ | 9/10 [04:29<00:28, 28.99s/it]"
          ]
        },
        {
          "output_type": "stream",
          "name": "stdout",
          "text": [
            "Epoch: 9, Training Loss: 0.055348634820431473, Validation Loss: 0.06637471835649117\n"
          ]
        },
        {
          "output_type": "stream",
          "name": "stderr",
          "text": [
            "100%|██████████| 10/10 [04:57<00:00, 29.76s/it]"
          ]
        },
        {
          "output_type": "stream",
          "name": "stdout",
          "text": [
            "Epoch: 10, Training Loss: 0.050474292700489365, Validation Loss: 0.07034289817811247\n",
            "Finished Training\n"
          ]
        },
        {
          "output_type": "stream",
          "name": "stderr",
          "text": [
            "\n"
          ]
        }
      ]
    },
    {
      "cell_type": "code",
      "source": [
        "## Plot train and validation loss\n",
        "plt.figure(figsize=(10, 5))\n",
        "plt.plot(train_loss, label='Training Loss')\n",
        "plt.plot(validation_loss, label='Validation Loss')\n",
        "plt.xlabel('Epoch')\n",
        "plt.ylabel('Loss')\n",
        "plt.xticks(range(1, epochs+1))\n",
        "plt.title('Training and Validation Loss')\n",
        "plt.legend()\n",
        "plt.show()"
      ],
      "metadata": {
        "colab": {
          "base_uri": "https://localhost:8080/",
          "height": 487
        },
        "id": "5D4nz-PuOFvl",
        "outputId": "702613d6-aeda-4167-bb66-3b49a29cb750"
      },
      "execution_count": 6,
      "outputs": [
        {
          "output_type": "display_data",
          "data": {
            "text/plain": [
              "<Figure size 1000x500 with 1 Axes>"
            ],
            "image/png": "[encoded data removed]"
          },
          "metadata": {}
        }
      ]
    },
    {
      "cell_type": "markdown",
      "source": [
        "### Test the model"
      ],
      "metadata": {
        "id": "o_Hakz5jOLVG"
      }
    },
    {
      "cell_type": "code",
      "source": [
        "correct = 0\n",
        "total = 0\n",
        "## we don't need to calculate the gradients for our outputs\n",
        "with torch.no_grad():\n",
        "    for data in testloader:\n",
        "        images, labels = data[0].to(device), data[1].to(device)\n",
        "        ## calculate outputs by running images through the network\n",
        "        outputs = net(images)\n",
        "        ## the class with the highest value is what we choose as prediction\n",
        "        _, predicted = torch.max(outputs.data, 1)\n",
        "        total += labels.size(0)\n",
        "        correct += (predicted == labels).sum().item()\n",
        "\n",
        "print(f'Accuracy of the network on MNIST test images: {100 * correct / total} %')"
      ],
      "metadata": {
        "colab": {
          "base_uri": "https://localhost:8080/"
        },
        "id": "h1QpRPUdOJRY",
        "outputId": "0c122b8d-58ed-4f46-9c50-a096f629f2db"
      },
      "execution_count": 7,
      "outputs": [
        {
          "output_type": "stream",
          "name": "stdout",
          "text": [
            "Accuracy of the network on MNIST test images: 98.21 %\n"
          ]
        }
      ]
    },
    {
      "cell_type": "code",
      "source": [],
      "metadata": {
        "id": "u4yYcOZyTAUx"
      },
      "execution_count": 7,
      "outputs": []
    }
  ]
}
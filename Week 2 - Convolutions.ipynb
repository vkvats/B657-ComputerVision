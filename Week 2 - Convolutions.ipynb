{
  "cells": [
    {
      "cell_type": "markdown",
      "metadata": {
        "id": "7NkEUPFh4Ube"
      },
      "source": [
        "# Week 2 -- Convolutions"
      ]
    },
    {
      "cell_type": "code",
      "execution_count": 15,
      "metadata": {
        "id": "yuSks6z64Ubi"
      },
      "outputs": [],
      "source": [
        "from prettytable import PrettyTable\n",
        "import torch.nn as nn\n",
        "import torch\n",
        "try:\n",
        "    import torchvision\n",
        "except:\n",
        "    !pip install torchvision\n",
        "    import torchvision\n",
        "import torchvision.ops as ops\n",
        "\n",
        "## used from: https://stackoverflow.com/questions/49201236/check-the-total-number-of-parameters-in-a-pytorch-model\n",
        "def count_parameters(model):\n",
        "    table = PrettyTable([\"Modules\", \"Parameters\"])\n",
        "    total_params = 0\n",
        "    for name, parameter in model.named_parameters():\n",
        "        if not parameter.requires_grad:\n",
        "            continue\n",
        "        params = parameter.numel()\n",
        "        table.add_row([name, params])\n",
        "        total_params += params\n",
        "    print(table)\n",
        "    print(f\"Total Trainable Params: {total_params}\")\n",
        "    return total_params\n",
        ""
      ]
    },
    {
      "cell_type": "markdown",
      "metadata": {
        "id": "hJr8Llb04Ubj"
      },
      "source": [
        "### Regular Convolution\n",
        "    1. Counting number of weights without biases\n",
        "    2. Counting number of weights with biases"
      ]
    },
    {
      "cell_type": "code",
      "execution_count": 16,
      "metadata": {
        "colab": {
          "base_uri": "https://localhost:8080/"
        },
        "id": "eH1DJLTx4Ubk",
        "outputId": "f1950cd3-eace-4679-a295-9c0de276c644"
      },
      "outputs": [
        {
          "output_type": "stream",
          "name": "stdout",
          "text": [
            "\n",
            "****** Weights without Bias ******\n",
            "\n",
            "+-------------+------------+\n",
            "|   Modules   | Parameters |\n",
            "+-------------+------------+\n",
            "| conv.weight |    1800    |\n",
            "+-------------+------------+\n",
            "Total Trainable Params: 1800\n",
            "\n",
            "****** Weights with bias ******\n",
            "\n",
            "+-------------+------------+\n",
            "|   Modules   | Parameters |\n",
            "+-------------+------------+\n",
            "| conv.weight |    1800    |\n",
            "|  conv.bias  |     20     |\n",
            "+-------------+------------+\n",
            "Total Trainable Params: 1820\n"
          ]
        },
        {
          "output_type": "execute_result",
          "data": {
            "text/plain": [
              "1820"
            ]
          },
          "metadata": {},
          "execution_count": 16
        }
      ],
      "source": [
        "\n",
        "class Model(nn.Module):\n",
        "    def __init__(self,Cin,Cout,K,S, bias=False, G=1):\n",
        "        super(Model, self).__init__()\n",
        "        self.conv = nn.Conv2d(in_channels=Cin, out_channels=Cout, kernel_size=K, stride=S, padding=0, dilation=1, groups=G, bias=bias, padding_mode='zeros')\n",
        "\n",
        "    def forward(self, x):\n",
        "        return self.conv(x)\n",
        "\n",
        "model_no_bias = Model(Cin=10,Cout=20,K=3,S=1, bias=False, G=1)\n",
        "model_with_bias = Model(Cin=10,Cout=20,K=3,S=1, bias=True, G=1)\n",
        "\n",
        "print(f\"\\n****** Weights without Bias ******\\n\")\n",
        "count_parameters(model_no_bias)\n",
        "\n",
        "print(f\"\\n****** Weights with bias ******\\n\")\n",
        "count_parameters(model_with_bias)"
      ]
    },
    {
      "cell_type": "markdown",
      "metadata": {
        "id": "QB4gDj_P4Ubo"
      },
      "source": [
        "### Dilated Convolution"
      ]
    },
    {
      "cell_type": "code",
      "execution_count": 17,
      "metadata": {
        "colab": {
          "base_uri": "https://localhost:8080/"
        },
        "id": "7OEjel6D4Ubo",
        "outputId": "f12ab083-66c1-4537-d802-cb6c965f0c59"
      },
      "outputs": [
        {
          "output_type": "stream",
          "name": "stdout",
          "text": [
            "\n",
            "****** Regular Convolution ******\n",
            "\n",
            "+---------------------+------------+\n",
            "|       Modules       | Parameters |\n",
            "+---------------------+------------+\n",
            "| dilated_conv.weight |    1800    |\n",
            "|  dilated_conv.bias  |     20     |\n",
            "+---------------------+------------+\n",
            "Total Trainable Params: 1820\n",
            "\n",
            "****** Dilated Convolution ******\n",
            "\n",
            "+---------------------+------------+\n",
            "|       Modules       | Parameters |\n",
            "+---------------------+------------+\n",
            "| dilated_conv.weight |    1800    |\n",
            "|  dilated_conv.bias  |     20     |\n",
            "+---------------------+------------+\n",
            "Total Trainable Params: 1820\n"
          ]
        },
        {
          "output_type": "execute_result",
          "data": {
            "text/plain": [
              "1820"
            ]
          },
          "metadata": {},
          "execution_count": 17
        }
      ],
      "source": [
        "class DilatedConvModel(nn.Module):\n",
        "    def __init__(self, in_channels, out_channels, kernel_size, dilation, padding):\n",
        "        super(DilatedConvModel, self).__init__()\n",
        "        self.dilated_conv = nn.Conv2d(in_channels, out_channels, kernel_size, padding=padding, dilation=dilation)\n",
        "\n",
        "    def forward(self, x):\n",
        "        return self.dilated_conv(x)\n",
        "\n",
        "# Example usage\n",
        "model_regular = DilatedConvModel(in_channels=10, out_channels=20, kernel_size=3, dilation=1, padding=1)\n",
        "model_dilated = DilatedConvModel(in_channels=10, out_channels=20, kernel_size=3, dilation=2, padding=1)\n",
        "\n",
        "print(f\"\\n****** Regular Convolution ******\\n\")\n",
        "count_parameters(model_regular)\n",
        "\n",
        "print(f\"\\n****** Dilated Convolution ******\\n\")\n",
        "count_parameters(model_dilated)"
      ]
    },
    {
      "cell_type": "code",
      "source": [
        "input = torch.randn(1, 10, 28, 28) ## shape is: (Batch, Channels, Height, Width)\n",
        "\n",
        "output_regular = model_regular(input)\n",
        "output_dilated = model_dilated(input)\n",
        "\n",
        "print(f\"\\nNon-dilated convolution output shape: {output_regular.shape}\")\n",
        "print(f\"\\nDilated convolution output shape: {output_dilated.shape}\")"
      ],
      "metadata": {
        "colab": {
          "base_uri": "https://localhost:8080/"
        },
        "id": "4-TLl8RS5G2d",
        "outputId": "b6b7a474-edee-4351-d904-f377858f9f48"
      },
      "execution_count": 18,
      "outputs": [
        {
          "output_type": "stream",
          "name": "stdout",
          "text": [
            "\n",
            "Non-dilated convolution output shape: torch.Size([1, 20, 28, 28])\n",
            "\n",
            "Dilated convolution output shape: torch.Size([1, 20, 26, 26])\n"
          ]
        }
      ]
    },
    {
      "cell_type": "markdown",
      "metadata": {
        "id": "Dan5iPRP4Ubl"
      },
      "source": [
        "### Grouped Convolution"
      ]
    },
    {
      "cell_type": "code",
      "execution_count": 19,
      "metadata": {
        "colab": {
          "base_uri": "https://localhost:8080/"
        },
        "id": "AhlT3Sz24Ubl",
        "outputId": "e2162e25-7a32-4c52-b29f-c613a0ae7210"
      },
      "outputs": [
        {
          "output_type": "stream",
          "name": "stdout",
          "text": [
            "NOTE: Number of groups (G) should always be a factor of Cin\n",
            "\n",
            "****** Weights count for G=2 ******\n",
            "\n",
            "+-------------+------------+\n",
            "|   Modules   | Parameters |\n",
            "+-------------+------------+\n",
            "| conv.weight |    900     |\n",
            "|  conv.bias  |     20     |\n",
            "+-------------+------------+\n",
            "Total Trainable Params: 920\n",
            "\n",
            "****** Weights count for G=5 ******\n",
            "\n",
            "+-------------+------------+\n",
            "|   Modules   | Parameters |\n",
            "+-------------+------------+\n",
            "| conv.weight |    360     |\n",
            "|  conv.bias  |     20     |\n",
            "+-------------+------------+\n",
            "Total Trainable Params: 380\n"
          ]
        },
        {
          "output_type": "execute_result",
          "data": {
            "text/plain": [
              "380"
            ]
          },
          "metadata": {},
          "execution_count": 19
        }
      ],
      "source": [
        "class GroupedConvolution(nn.Module):\n",
        "    def __init__(self,Cin,Cout,K,S, bias=False, G=1):\n",
        "        super(GroupedConvolution, self).__init__()\n",
        "        self.conv = nn.Conv2d(in_channels=Cin, out_channels=Cout, kernel_size=K, stride=S, padding=0, dilation=1, groups=G, bias=bias, padding_mode='zeros')\n",
        "\n",
        "    def forward(self, x):\n",
        "        return self.conv(x)\n",
        "\n",
        "model_2_groups = GroupedConvolution(Cin=10,Cout=20,K=3,S=1, bias=True, G=2)\n",
        "model_5_groups = GroupedConvolution(Cin=10,Cout=20,K=3,S=1, bias=True, G=5)\n",
        "\n",
        "print(\"NOTE: Number of groups (G) should always be a factor of Cin\")\n",
        "\n",
        "print(f\"\\n****** Weights count for G=2 ******\\n\")\n",
        "count_parameters(model_2_groups)\n",
        "\n",
        "print(f\"\\n****** Weights count for G=5 ******\\n\")\n",
        "count_parameters(model_5_groups)"
      ]
    },
    {
      "cell_type": "markdown",
      "metadata": {
        "id": "rM8xnhDs4Ubm"
      },
      "source": [
        "### Depth-wise convolution"
      ]
    },
    {
      "cell_type": "code",
      "execution_count": 20,
      "metadata": {
        "colab": {
          "base_uri": "https://localhost:8080/"
        },
        "id": "pHGeYfay4Ubn",
        "outputId": "5d6f3cbf-ddec-490e-e60b-42d6cbecda68"
      },
      "outputs": [
        {
          "output_type": "stream",
          "name": "stdout",
          "text": [
            "\n",
            "****** Depth-wise convolution ******\n",
            "\n",
            "+-------------+------------+\n",
            "|   Modules   | Parameters |\n",
            "+-------------+------------+\n",
            "| conv.weight |     90     |\n",
            "|  conv.bias  |     10     |\n",
            "+-------------+------------+\n",
            "Total Trainable Params: 100\n"
          ]
        },
        {
          "output_type": "execute_result",
          "data": {
            "text/plain": [
              "100"
            ]
          },
          "metadata": {},
          "execution_count": 20
        }
      ],
      "source": [
        "model_depthwise = GroupedConvolution(Cin=10,Cout=10,K=3,S=1, bias=True, G=10)\n",
        "\n",
        "print(f\"\\n****** Depth-wise convolution ******\\n\")\n",
        "count_parameters(model_depthwise)"
      ]
    },
    {
      "cell_type": "markdown",
      "metadata": {
        "id": "841X5Bot4Ubn"
      },
      "source": [
        "### Depthwise Separable Convolution\n",
        "    - Involves two separate operations: Depthwise convolution followed by pointwise convolution"
      ]
    },
    {
      "cell_type": "code",
      "execution_count": 21,
      "metadata": {
        "colab": {
          "base_uri": "https://localhost:8080/"
        },
        "id": "XnOBO7qq4Ubn",
        "outputId": "0c38c452-4567-46fc-d399-53b348e58e2b"
      },
      "outputs": [
        {
          "output_type": "stream",
          "name": "stdout",
          "text": [
            "+------------------+------------+\n",
            "|     Modules      | Parameters |\n",
            "+------------------+------------+\n",
            "| depthwise.weight |     90     |\n",
            "|  depthwise.bias  |     10     |\n",
            "| pointwise.weight |    100     |\n",
            "|  pointwise.bias  |     10     |\n",
            "+------------------+------------+\n",
            "Total Trainable Params: 210\n"
          ]
        },
        {
          "output_type": "execute_result",
          "data": {
            "text/plain": [
              "210"
            ]
          },
          "metadata": {},
          "execution_count": 21
        }
      ],
      "source": [
        "class DepthwiseSeparableConvolution(nn.Module):\n",
        "    def __init__(self,):\n",
        "        super(DepthwiseSeparableConvolution, self).__init__()\n",
        "        self.depthwise = nn.Conv2d(in_channels=10, out_channels=10, kernel_size=3, stride=1, padding=0, dilation=1, groups=10, bias=True, padding_mode='zeros')\n",
        "        self.pointwise = nn.Conv2d(in_channels=10, out_channels=10, kernel_size=1, stride=1, padding=0, dilation=1, groups=1, bias=True, padding_mode='zeros')\n",
        "\n",
        "    def forward(self, x):\n",
        "        return self.pointwise(self.conv(x))\n",
        "\n",
        "depthwise_separable_conv = DepthwiseSeparableConvolution()\n",
        "count_parameters(depthwise_separable_conv)"
      ]
    },
    {
      "cell_type": "markdown",
      "metadata": {
        "id": "JsDT_cH24Ubo"
      },
      "source": [
        "### Deformable Convolution"
      ]
    },
    {
      "cell_type": "code",
      "source": [
        "class DeformableConv2d(nn.Module):\n",
        "    def __init__(self, in_channels, out_channels, kernel_size, stride=1, padding=0, dilation=1, groups=1, bias=True):\n",
        "        super(DeformableConv2d, self).__init__()\n",
        "\n",
        "        self.conv = nn.Conv2d(in_channels, out_channels, kernel_size, stride, padding, dilation, groups, bias)\n",
        "        self.offset_conv = nn.Conv2d(in_channels, 2 * kernel_size * kernel_size, kernel_size, stride, padding, dilation, groups, bias=False)\n",
        "\n",
        "    def forward(self, x):\n",
        "        offset = self.offset_conv(x)\n",
        "        return ops.deform_conv2d(x, offset, self.conv.weight, self.conv.bias, self.conv.stride, self.conv.padding, self.conv.dilation)\n",
        "\n",
        "# Example usage\n",
        "deform_conv = DeformableConv2d(10, 20, 3, padding=1)\n",
        "print(f\"\\n****** Deformable Convolution ******\\n\")\n",
        "count_parameters(deform_conv)\n"
      ],
      "metadata": {
        "colab": {
          "base_uri": "https://localhost:8080/"
        },
        "id": "O2T-USfr9WN5",
        "outputId": "f3e9871e-b04d-46e2-e407-ff69e76e9319"
      },
      "execution_count": 22,
      "outputs": [
        {
          "output_type": "stream",
          "name": "stdout",
          "text": [
            "\n",
            "****** Deformable Convolution ******\n",
            "\n",
            "+--------------------+------------+\n",
            "|      Modules       | Parameters |\n",
            "+--------------------+------------+\n",
            "|    conv.weight     |    1800    |\n",
            "|     conv.bias      |     20     |\n",
            "| offset_conv.weight |    1620    |\n",
            "+--------------------+------------+\n",
            "Total Trainable Params: 3440\n"
          ]
        },
        {
          "output_type": "execute_result",
          "data": {
            "text/plain": [
              "3440"
            ]
          },
          "metadata": {},
          "execution_count": 22
        }
      ]
    },
    {
      "cell_type": "code",
      "source": [
        "# Example input\n",
        "input_tensor = torch.randn(1, 10, 28, 28)\n",
        "output = deform_conv(input_tensor)\n",
        "print(f\"\\nDeformable convolution output shape: {output.shape}\")"
      ],
      "metadata": {
        "colab": {
          "base_uri": "https://localhost:8080/"
        },
        "id": "FlZB4TFj82-Y",
        "outputId": "ee05fd33-c5d8-47ee-d99d-28cd84ce25bc"
      },
      "execution_count": 23,
      "outputs": [
        {
          "output_type": "stream",
          "name": "stdout",
          "text": [
            "\n",
            "Deformable convolution output shape: torch.Size([1, 20, 28, 28])\n"
          ]
        }
      ]
    },
    {
      "cell_type": "markdown",
      "metadata": {
        "id": "z0585OS_4Ubp"
      },
      "source": [
        "### Transpose Convolution"
      ]
    },
    {
      "cell_type": "code",
      "source": [
        "class TransposeConvModel(nn.Module):\n",
        "    def __init__(self, in_channels, out_channels, kernel_size, stride, padding):\n",
        "        super(TransposeConvModel, self).__init__()\n",
        "        self.transpose_conv = nn.ConvTranspose2d(in_channels, out_channels, kernel_size, stride, padding)\n",
        "\n",
        "    def forward(self, x):\n",
        "        return self.transpose_conv(x)\n",
        "\n",
        "# Example usage\n",
        "model = TransposeConvModel(in_channels=10, out_channels=20, kernel_size=3, stride=2, padding=1)\n",
        "count_parameters(model)\n",
        "\n",
        "input = torch.randn(1, 10, 28, 28)\n",
        "output = model(input)\n",
        "print(f\"\\nTranspose convolution output shape: {output.shape}\")"
      ],
      "metadata": {
        "colab": {
          "base_uri": "https://localhost:8080/"
        },
        "id": "UCjdwG4g7Duc",
        "outputId": "e164dfc2-4eea-4833-a905-5a2b8f054954"
      },
      "execution_count": 24,
      "outputs": [
        {
          "output_type": "stream",
          "name": "stdout",
          "text": [
            "+-----------------------+------------+\n",
            "|        Modules        | Parameters |\n",
            "+-----------------------+------------+\n",
            "| transpose_conv.weight |    1800    |\n",
            "|  transpose_conv.bias  |     20     |\n",
            "+-----------------------+------------+\n",
            "Total Trainable Params: 1820\n",
            "\n",
            "Transpose convolution output shape: torch.Size([1, 20, 55, 55])\n"
          ]
        }
      ]
    },
    {
      "cell_type": "markdown",
      "metadata": {
        "id": "vgxVpxk94Ubp"
      },
      "source": [
        "### 3D Convolutions"
      ]
    },
    {
      "cell_type": "code",
      "execution_count": 25,
      "metadata": {
        "colab": {
          "base_uri": "https://localhost:8080/"
        },
        "id": "cTBENCi94Ubp",
        "outputId": "f30fa6c0-1ba6-4587-f1a5-a4f40a1f76e3"
      },
      "outputs": [
        {
          "output_type": "stream",
          "name": "stdout",
          "text": [
            "+---------------+------------+\n",
            "|    Modules    | Parameters |\n",
            "+---------------+------------+\n",
            "| conv3d.weight |    5400    |\n",
            "|  conv3d.bias  |     20     |\n",
            "+---------------+------------+\n",
            "Total Trainable Params: 5420\n"
          ]
        },
        {
          "output_type": "execute_result",
          "data": {
            "text/plain": [
              "5420"
            ]
          },
          "metadata": {},
          "execution_count": 25
        }
      ],
      "source": [
        "class Model3D(nn.Module):\n",
        "    def __init__(self):\n",
        "        super(Model3D, self).__init__()\n",
        "        self.conv3d = nn.Conv3d(in_channels=10, out_channels=20, kernel_size=3, stride=1, padding=1)\n",
        "\n",
        "    def forward(self, x):\n",
        "        return self.conv3d(x)\n",
        "\n",
        "model = Model3D()\n",
        "count_parameters(model) ## counting: 3*3*3*20 + 20 biases"
      ]
    },
    {
      "cell_type": "code",
      "source": [],
      "metadata": {
        "id": "NSpC4w0I7PJg"
      },
      "execution_count": 25,
      "outputs": []
    }
  ],
  "metadata": {
    "kernelspec": {
      "display_name": "Python 3",
      "language": "python",
      "name": "python3"
    },
    "language_info": {
      "codemirror_mode": {
        "name": "ipython",
        "version": 3
      },
      "file_extension": ".py",
      "mimetype": "text/x-python",
      "name": "python",
      "nbconvert_exporter": "python",
      "pygments_lexer": "ipython3",
      "version": "3.10.12"
    },
    "colab": {
      "provenance": []
    }
  },
  "nbformat": 4,
  "nbformat_minor": 0
}
